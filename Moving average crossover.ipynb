{
 "cells": [
  {
   "cell_type": "code",
   "execution_count": 3,
   "id": "0d3d77ac",
   "metadata": {},
   "outputs": [],
   "source": [
    "import yfinance as yf\n",
    "import pandas as pd\n",
    "import matplotlib.pyplot as plt"
   ]
  },
  {
   "cell_type": "code",
   "execution_count": 5,
   "id": "9e8c9ec4",
   "metadata": {},
   "outputs": [],
   "source": [
    "# Define the stock ticker symbol and download historical data\n",
    "ticker = \"TSLA\"  # Replace with your desired stock ticker\n",
    "start_date = \"2022-01-01\"\n",
    "end_date = \"2023-01-01\"\n",
    "stock_data = yf.download(ticker, start=start_date, end=end_date, progress=False)\n",
    "\n",
    "# Calculate 30-day and 90-day moving averages and adding them to stock_data dataframe\n",
    "stock_data['30d MA'] = stock_data['Close'].rolling(window=30).mean()\n",
    "stock_data['90d MA'] = stock_data['Close'].rolling(window=90).mean()"
   ]
  },
  {
   "cell_type": "code",
   "execution_count": 7,
   "id": "5017ee51",
   "metadata": {},
   "outputs": [],
   "source": [
    "# Initialize position and cash\n",
    "position = 0\n",
    "cash = 10000\n",
    "shares = 0\n",
    "buy_signals = 0\n",
    "sell_signals = 0\n",
    "\n",
    "iteration = stock_data.iterrows() #The .iterrows() function is used to iterate over the rows of the dataframe one by one\n",
    "\n",
    "# Apply the trading strategy\n",
    "for index, row in iteration: # here, index is the Date(index doesn't have a column name). And the loop is essentially going through each row of the stock_data DataFrame, allowing you to access and process the data in each row using the row variable. \n",
    "    if row['30d MA'] < row['90d MA'] and position == 0: #(== is used for comparison and = is used for assignment)\n",
    "        # Buy signal\n",
    "        shares = cash / row['Close']\n",
    "        position = 1\n",
    "        buy_signals += 1 # += is a shorthand operator that performs addition and assignment in a single step. When the line buy_signals += 1 is executed, it increments the value of buy_signals by 1. It's equivalent to writing buy_signals = buy_signals + 1.\n",
    "    \n",
    "    elif row['30d MA'] > row['90d MA'] and position == 1:\n",
    "        # Sell signal\n",
    "        cash = shares * row['Close']\n",
    "        position = 0\n",
    "        shares = 0\n",
    "        sell_signals += 1\n",
    "\n",
    "# Calculate final portfolio value\n",
    "final_portfolio_value = (shares * stock_data.iloc[-1]['Close']) # -1 inside square brackets refers to the last row of the DataFrame\n"
   ]
  },
  {
   "cell_type": "code",
   "execution_count": 8,
   "id": "37668bc3",
   "metadata": {},
   "outputs": [
    {
     "name": "stdout",
     "output_type": "stream",
     "text": [
      "Number of Buy Signals: 2\n",
      "Number of Sell Signals: 1\n",
      "Initial Cash: $10000\n",
      "Final Cash: $12184.19\n",
      "Shares Held: 54.87\n",
      "Final Stock Price: $123.18\n",
      "Final Portfolio Value: $6759.36\n"
     ]
    }
   ],
   "source": [
    "# Display calculation details\n",
    "print(f\"Number of Buy Signals: {buy_signals}\")\n",
    "print(f\"Number of Sell Signals: {sell_signals}\")\n",
    "print(f\"Initial Cash: $10000\")\n",
    "print(f\"Final Cash: ${cash:.2f}\") #The .2f formatting ensures that the cash value is displayed with two decimal places for a clearer representation of currency.\n",
    "print(f\"Shares Held: {shares:.2f}\")\n",
    "print(f\"Final Stock Price: ${stock_data.iloc[-1]['Close']:.2f}\")\n",
    "print(f\"Final Portfolio Value: ${final_portfolio_value:.2f}\")"
   ]
  },
  {
   "cell_type": "code",
   "execution_count": null,
   "id": "4eac8100",
   "metadata": {},
   "outputs": [],
   "source": []
  }
 ],
 "metadata": {
  "kernelspec": {
   "display_name": "Python 3",
   "language": "python",
   "name": "python3"
  },
  "language_info": {
   "codemirror_mode": {
    "name": "ipython",
    "version": 3
   },
   "file_extension": ".py",
   "mimetype": "text/x-python",
   "name": "python",
   "nbconvert_exporter": "python",
   "pygments_lexer": "ipython3",
   "version": "3.8.8"
  }
 },
 "nbformat": 4,
 "nbformat_minor": 5
}
