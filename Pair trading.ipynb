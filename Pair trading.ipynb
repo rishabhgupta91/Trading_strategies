{
 "cells": [
  {
   "cell_type": "code",
   "execution_count": 6,
   "id": "bda3a7d5",
   "metadata": {},
   "outputs": [
    {
     "name": "stdout",
     "output_type": "stream",
     "text": [
      "[*********************100%***********************]  2 of 2 completed\n",
      "Normalized Price Distance: 14.863513028153172\n",
      "The residuals are stationary. The stocks are likely cointegrated.\n"
     ]
    }
   ],
   "source": [
    "import yfinance as yf\n",
    "import numpy as np\n",
    "import statsmodels.api as sm\n",
    "from statsmodels.tsa.stattools import adfuller\n",
    "\n",
    "# Define the ticker symbols\n",
    "tickers = ['XOM', 'CVX']\n",
    "\n",
    "# Download historical stock price data\n",
    "data = yf.download(tickers, start='2019-01-01', end='2023-01-01')['Adj Close']\n",
    "\n",
    "# Calculate normalized return index for each ticker\n",
    "returns = (data / data.iloc[0])\n",
    "\n",
    "# Calculate squared deviations between normalized price series\n",
    "squared_deviations = (returns['XOM'] - returns['CVX']) ** 2\n",
    "\n",
    "# Calculate the normalized price distance\n",
    "normalized_price_distance = squared_deviations.sum()\n",
    "\n",
    "# Display the result\n",
    "print(\"Normalized Price Distance:\", normalized_price_distance)\n",
    "\n",
    "\n",
    "# Calculate the price spread (log difference)\n",
    "data['Price_Spread'] = np.log(data['XOM']) - np.log(data['CVX'])\n",
    "\n",
    "# Perform linear regression\n",
    "X = sm.add_constant(np.log(data['CVX']))\n",
    "model = sm.OLS(data['Price_Spread'], X).fit()\n",
    "\n",
    "# Get residuals\n",
    "residuals = model.resid\n",
    "\n",
    "\n",
    "# Perform ADF test\n",
    "adf_test = adfuller(residuals)\n",
    "p_value = adf_test[1]\n",
    "\n",
    "\n",
    "if p_value < 0.05:\n",
    "    print(\"The residuals are stationary. The stocks are likely cointegrated.\")\n",
    "else:\n",
    "    print(\"The residuals are not stationary. The stocks are likely not cointegrated.\")"
   ]
  },
  {
   "cell_type": "markdown",
   "id": "0fab4402",
   "metadata": {},
   "source": [
    "### Setting open and exit threshold and strategy execution"
   ]
  },
  {
   "cell_type": "code",
   "execution_count": 5,
   "id": "adf42a14",
   "metadata": {},
   "outputs": [
    {
     "name": "stdout",
     "output_type": "stream",
     "text": [
      "[*********************100%***********************]  1 of 1 completed\n",
      "[*********************100%***********************]  1 of 1 completed\n",
      "Short XOM, Long CVX: Date=2019-01-03 00:00:00, Z-score=1.01\n",
      "Exit Short XOM, Exit Long CVX: Date=2019-06-07 00:00:00, Z-score=0.46, Profit=6.53\n",
      "Short XOM, Long CVX: Date=2020-03-09 00:00:00, Z-score=1.04\n",
      "Exit Short XOM, Exit Long CVX: Date=2020-04-29 00:00:00, Z-score=0.42, Profit=7.34\n",
      "Short XOM, Long CVX: Date=2020-09-23 00:00:00, Z-score=1.09\n",
      "Exit Short XOM, Exit Long CVX: Date=2020-11-13 00:00:00, Z-score=0.45, Profit=7.60\n",
      "Long XOM, Short CVX: Date=2022-02-25 00:00:00, Z-score=-1.11\n",
      "Exit Long XOM, Exit Short CVX: Date=2022-07-12 00:00:00, Z-score=-0.47, Profit=7.50\n",
      "Long XOM, Short CVX: Date=2022-07-29 00:00:00, Z-score=-1.48\n",
      "Total Profit: $28.97\n",
      "Total Covered Position Profit: $28.97\n"
     ]
    }
   ],
   "source": [
    "import numpy as np\n",
    "import pandas as pd\n",
    "import yfinance as yf\n",
    "import statsmodels.api as sm\n",
    "\n",
    "# Download historical price data for XOM and CVX\n",
    "start_date = '2019-01-01'\n",
    "end_date = '2023-01-01'\n",
    "xom_data = yf.download('XOM', start=start_date, end=end_date)['Adj Close']\n",
    "cvx_data = yf.download('CVX', start=start_date, end=end_date)['Adj Close']\n",
    "\n",
    "# Compute the spread between XOM and CVX prices\n",
    "spread = xom_data - cvx_data\n",
    "\n",
    "# Calculate mean and standard deviation of the spread\n",
    "mean_spread = np.mean(spread)\n",
    "std_spread = np.std(spread)\n",
    "\n",
    "# Compute Z-scores for the spread\n",
    "z_scores = (spread - mean_spread) / std_spread\n",
    "\n",
    "# Set Z-score threshold for entry and exit\n",
    "entry_threshold = 1.0\n",
    "exit_threshold = 0.5\n",
    "\n",
    "# Initialize position and portfolio value\n",
    "position = 0  # 0 for no position, 1 for long position, -1 for short position\n",
    "\n",
    "#portfolio_value = 0\n",
    "covered_position_value = 0  # For tracking the value of covered positions\n",
    "\n",
    "# Initialize variables to track profit and covered position profit\n",
    "total_profit = 0\n",
    "total_covered_position_profit = 0\n",
    "\n",
    "# Loop through spread data\n",
    "for i in range(1, len(spread)):\n",
    "    z_score = z_scores[i]\n",
    "    \n",
    "    if position == 0:\n",
    "        if z_score > entry_threshold:\n",
    "            # Open short position\n",
    "            position = -1\n",
    "            covered_position_value = spread.iloc[i]  # Track the value of covered position\n",
    "            print(f\"Short XOM, Long CVX: Date={spread.index[i]}, Z-score={z_score:.2f}\")\n",
    "        elif z_score < -entry_threshold:\n",
    "            # Open long position\n",
    "            position = 1\n",
    "            covered_position_value = -spread.iloc[i]  # Track the value of covered position\n",
    "            print(f\"Long XOM, Short CVX: Date={spread.index[i]}, Z-score={z_score:.2f}\")\n",
    "    elif position == 1:\n",
    "        if z_score > -exit_threshold:\n",
    "            # Close long position\n",
    "            position = 0\n",
    "            profit = spread.iloc[i] + covered_position_value\n",
    "            total_profit += profit\n",
    "            total_covered_position_profit += profit\n",
    "            print(f\"Exit Long XOM, Exit Short CVX: Date={spread.index[i]}, Z-score={z_score:.2f}, Profit={profit:.2f}\")\n",
    "    elif position == -1:\n",
    "        if z_score < exit_threshold:\n",
    "            # Close short position\n",
    "            position = 0\n",
    "            profit = covered_position_value - spread.iloc[i]\n",
    "            total_profit += profit\n",
    "            total_covered_position_profit += profit\n",
    "            print(f\"Exit Short XOM, Exit Long CVX: Date={spread.index[i]}, Z-score={z_score:.2f}, Profit={profit:.2f}\")\n",
    "\n",
    "# Print total profit\n",
    "\n",
    "print(f\"Total Profit: ${total_profit:.2f}\")\n",
    "print(f\"Total Covered Position Profit: ${total_covered_position_profit:.2f}\")\n"
   ]
  },
  {
   "cell_type": "code",
   "execution_count": 4,
   "id": "3b678cb1",
   "metadata": {},
   "outputs": [
    {
     "data": {
      "text/html": [
       "<a href='xomdata.xlsx' target='_blank'>xomdata.xlsx</a><br>"
      ],
      "text/plain": [
       "C:\\Users\\risha\\xomdata.xlsx"
      ]
     },
     "execution_count": 4,
     "metadata": {},
     "output_type": "execute_result"
    }
   ],
   "source": [
    "excel_file_name2 = 'xomdata.xlsx'\n",
    "cvx_data.to_excel(excel_file_name2, index=True)\n",
    "from IPython.display import FileLink\n",
    "FileLink(excel_file_name2)"
   ]
  },
  {
   "cell_type": "code",
   "execution_count": null,
   "id": "0635dbe0",
   "metadata": {},
   "outputs": [],
   "source": []
  }
 ],
 "metadata": {
  "kernelspec": {
   "display_name": "Python 3",
   "language": "python",
   "name": "python3"
  },
  "language_info": {
   "codemirror_mode": {
    "name": "ipython",
    "version": 3
   },
   "file_extension": ".py",
   "mimetype": "text/x-python",
   "name": "python",
   "nbconvert_exporter": "python",
   "pygments_lexer": "ipython3",
   "version": "3.8.8"
  }
 },
 "nbformat": 4,
 "nbformat_minor": 5
}
